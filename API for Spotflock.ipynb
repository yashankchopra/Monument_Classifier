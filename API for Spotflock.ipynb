{
 "cells": [
  {
   "cell_type": "code",
   "execution_count": null,
   "metadata": {},
   "outputs": [
    {
     "name": "stdout",
     "output_type": "stream",
     "text": [
      " * Serving Flask app \"__main__\" (lazy loading)\n",
      " * Environment: production\n",
      "\u001b[31m   WARNING: This is a development server. Do not use it in a production deployment.\u001b[0m\n",
      "\u001b[2m   Use a production WSGI server instead.\u001b[0m\n",
      " * Debug mode: on\n"
     ]
    },
    {
     "name": "stderr",
     "output_type": "stream",
     "text": [
      " * Running on http://127.0.0.1:1504/ (Press CTRL+C to quit)\n",
      "127.0.0.1 - - [11/Oct/2022 10:44:39] \"\u001b[37mGET / HTTP/1.1\u001b[0m\" 200 -\n",
      "127.0.0.1 - - [11/Oct/2022 10:44:39] \"\u001b[33mGET /static/css/normalize.css HTTP/1.1\u001b[0m\" 404 -\n",
      "127.0.0.1 - - [11/Oct/2022 10:44:39] \"\u001b[33mGET /static/css/grid.css HTTP/1.1\u001b[0m\" 404 -\n",
      "127.0.0.1 - - [11/Oct/2022 10:44:39] \"\u001b[33mGET /static/css/style.css HTTP/1.1\u001b[0m\" 404 -\n",
      "127.0.0.1 - - [11/Oct/2022 10:44:39] \"\u001b[33mGET /static/css/front.jpg HTTP/1.1\u001b[0m\" 404 -\n",
      "127.0.0.1 - - [11/Oct/2022 10:44:39] \"\u001b[33mGET /favicon.ico HTTP/1.1\u001b[0m\" 404 -\n",
      "127.0.0.1 - - [11/Oct/2022 10:44:55] \"\u001b[37mPOST /success HTTP/1.1\u001b[0m\" 200 -\n",
      "127.0.0.1 - - [11/Oct/2022 10:44:55] \"\u001b[33mGET /static/css/normalize.css HTTP/1.1\u001b[0m\" 404 -\n",
      "127.0.0.1 - - [11/Oct/2022 10:44:55] \"\u001b[33mGET /static/css/grid.css HTTP/1.1\u001b[0m\" 404 -\n",
      "127.0.0.1 - - [11/Oct/2022 10:44:55] \"\u001b[33mGET /static/css/styleSucc.css HTTP/1.1\u001b[0m\" 404 -\n",
      "127.0.0.1 - - [11/Oct/2022 10:44:55] \"\u001b[37mGET /static/images/images.jpeg HTTP/1.1\u001b[0m\" 200 -\n"
     ]
    }
   ],
   "source": [
    "import os\n",
    "import uuid\n",
    "import flask\n",
    "import urllib\n",
    "from PIL import Image\n",
    "from tensorflow.keras.models import load_model\n",
    "from flask import Flask , render_template  , request , send_file\n",
    "from tensorflow.keras.preprocessing.image import load_img , img_to_array\n",
    "\n",
    "\n",
    "app = Flask(__name__)\n",
    "\n",
    "BASE_DIR = os.path.dirname('static')\n",
    "model = load_model('Spotflock_2.h5')\n",
    "ALLOWED_EXT = set(['jpg' , 'jpeg' , 'png' , 'jfif'])\n",
    "\n",
    "def allowed_file(filename):\n",
    "    return '.' in filename and \\\n",
    "           filename.rsplit('.', 1)[1] in ALLOWED_EXT\n",
    "\n",
    "classes = ['Gateway of India', 'Golden Temple', 'Hawa Mahal', 'Humayun Tomb', 'India Gate', 'Qutub Minar', 'Red Fort', 'Sanchi Stupa', 'Statue of Unity', 'Taj Mahal']\n",
    "def predict(filename , model):\n",
    "    img = load_img(filename , target_size = (224 , 224))\n",
    "    img = img_to_array(img)\n",
    "    img = img.reshape(1 , 224 ,224 ,3)\n",
    "    img = img.astype('float32')\n",
    "    img = img/255.0\n",
    "    result = model.predict(img)\n",
    "    dict_result = {}\n",
    "    for i in range(10):\n",
    "        dict_result[result[0][i]] = classes[i]\n",
    "    res = result[0]\n",
    "    res.sort()\n",
    "    res = res[::-1]\n",
    "    prob = res[:3]\n",
    "    \n",
    "    prob_result = []\n",
    "    class_result = []\n",
    "    for i in range(3):\n",
    "        prob_result.append((prob[i]*100).round(2))\n",
    "        class_result.append(dict_result[prob[i]])\n",
    "    return class_result , prob_result\n",
    "@app.route('/')\n",
    "def home():\n",
    "        return render_template(\"index.html\")\n",
    "@app.route('/success' , methods = ['GET' , 'POST'])\n",
    "def success():\n",
    "    error = ''\n",
    "    target_img = os.path.join(os.getcwd() , 'static/images')\n",
    "    if request.method == 'POST':\n",
    "        if(request.form):\n",
    "            link = request.form.get('link')\n",
    "            try :\n",
    "                resource = urllib.request.urlopen(link)\n",
    "                unique_filename = str(uuid.uuid4())\n",
    "                filename = unique_filename+\".jpg\"\n",
    "                img_path = os.path.join(target_img , filename)\n",
    "                output = open(img_path , \"wb\")\n",
    "                output.write(resource.read())\n",
    "                output.close()\n",
    "                img = filename\n",
    "                class_result , prob_result = predict(img_path , model)\n",
    "                predictions = {\n",
    "                      \"class1\":class_result[0],\n",
    "                        \"class2\":class_result[1],\n",
    "                        \"class3\":class_result[2],\n",
    "                        \"prob1\": prob_result[0],\n",
    "                        \"prob2\": prob_result[1],\n",
    "                        \"prob3\": prob_result[2],\n",
    "                }\n",
    "            except Exception as e : \n",
    "                print(str(e))\n",
    "                error = 'This image from this site is not accesible or inappropriate input'\n",
    "            if(len(error) == 0):\n",
    "                return  render_template('success.html' , img  = img , predictions = predictions)\n",
    "            else:\n",
    "                return render_template('index.html' , error = error) \n",
    "            \n",
    "        elif (request.files):\n",
    "            file = request.files['file']\n",
    "            if file and allowed_file(file.filename):\n",
    "                file.save(os.path.join(target_img , file.filename))\n",
    "                img_path = os.path.join(target_img , file.filename)\n",
    "                img = file.filename\n",
    "                class_result , prob_result = predict(img_path , model)\n",
    "                predictions = {\n",
    "                      \"class1\":class_result[0],\n",
    "                        \"class2\":class_result[1],\n",
    "                        \"class3\":class_result[2],\n",
    "                        \"prob1\": prob_result[0],\n",
    "                        \"prob2\": prob_result[1],\n",
    "                        \"prob3\": prob_result[2],\n",
    "                }\n",
    "            else:\n",
    "                error = \"Please upload images of jpg , jpeg and png extension only\"\n",
    "            if(len(error) == 0):\n",
    "                return  render_template('success.html' , img  = img , predictions = predictions)\n",
    "            else:\n",
    "                return render_template('index.html' , error = error)\n",
    "    else:\n",
    "        return render_template('index.html')\n",
    "if __name__ == \"__main__\":\n",
    "    app.run(port=1504,debug = True, use_reloader=False)"
   ]
  },
  {
   "cell_type": "code",
   "execution_count": 1,
   "metadata": {},
   "outputs": [
    {
     "name": "stdout",
     "output_type": "stream",
     "text": [
      "Note: you may need to restart the kernel to use updated packages.\n"
     ]
    }
   ],
   "source": [
    "pip freeze > requirements2.txt"
   ]
  },
  {
   "cell_type": "code",
   "execution_count": null,
   "metadata": {},
   "outputs": [],
   "source": []
  }
 ],
 "metadata": {
  "kernelspec": {
   "display_name": "Python 3",
   "language": "python",
   "name": "python3"
  },
  "language_info": {
   "codemirror_mode": {
    "name": "ipython",
    "version": 3
   },
   "file_extension": ".py",
   "mimetype": "text/x-python",
   "name": "python",
   "nbconvert_exporter": "python",
   "pygments_lexer": "ipython3",
   "version": "3.8.5"
  }
 },
 "nbformat": 4,
 "nbformat_minor": 4
}
